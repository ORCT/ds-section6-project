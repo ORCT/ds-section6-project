{
  "nbformat": 4,
  "nbformat_minor": 0,
  "metadata": {
    "colab": {
      "provenance": [],
      "authorship_tag": "ABX9TyMnvGaBz6S8VlJNM8+RKuwO",
      "include_colab_link": true
    },
    "kernelspec": {
      "name": "python3",
      "display_name": "Python 3"
    },
    "language_info": {
      "name": "python"
    }
  },
  "cells": [
    {
      "cell_type": "markdown",
      "metadata": {
        "id": "view-in-github",
        "colab_type": "text"
      },
      "source": [
        "<a href=\"https://colab.research.google.com/github/ORCT/ds-section6-project/blob/main/binary_estimate.ipynb\" target=\"_parent\"><img src=\"https://colab.research.google.com/assets/colab-badge.svg\" alt=\"Open In Colab\"/></a>"
      ]
    },
    {
      "cell_type": "markdown",
      "source": [
        "# 0과 1을 분류하는 인공신경망 프로그래밍 "
      ],
      "metadata": {
        "id": "m2FBNdAINDCZ"
      }
    },
    {
      "cell_type": "markdown",
      "source": [
        "0과 1을 분류하는 인공신경망을 딥러닝 라이브러리를 사용하지 않고 구현하는 것이 목적이다.\n",
        "\n",
        "세부사항 : \n",
        "- 순전파 과정만을 구현한다.\n",
        "- 핵심 기능을 재사용 가능하도록 구현한다."
      ],
      "metadata": {
        "id": "5UNk3D-xNLpf"
      }
    },
    {
      "cell_type": "markdown",
      "source": [
        "사용한 라이브러리 :\n",
        "- numpy\n",
        "- pandas\n",
        "- csv\n",
        "- matplotlib"
      ],
      "metadata": {
        "id": "fYXDW2J_NZMe"
      }
    },
    {
      "cell_type": "code",
      "execution_count": null,
      "metadata": {
        "id": "eOVd30t7UHEY"
      },
      "outputs": [],
      "source": [
        "import numpy as np\n",
        "import pandas as pd\n",
        "import csv\n",
        "import matplotlib.pyplot as plt"
      ]
    },
    {
      "cell_type": "code",
      "source": [
        "def data_load(dir):\n",
        "  '''\n",
        "  데이터를 입력 경로에 따라 호출한다.\n",
        "  '''\n",
        "  return pd.read_csv(dir)"
      ],
      "metadata": {
        "id": "reWJo1J2grq1"
      },
      "execution_count": null,
      "outputs": []
    },
    {
      "cell_type": "code",
      "source": [
        "def data_shuffle(df):\n",
        "  '''\n",
        "  data를 섞는다.\n",
        "  np.permutation 메서드를 이용해 원본을 보존하면서 섞는다.\n",
        "  '''\n",
        "  return pd.DataFrame(np.random.permutation(df))"
      ],
      "metadata": {
        "id": "_jhq8AmhUz44"
      },
      "execution_count": null,
      "outputs": []
    },
    {
      "cell_type": "code",
      "source": [
        "def X_y_split(df):\n",
        "  '''\n",
        "  target label과 feature를 분리한다.\n",
        "  '''\n",
        "  target = 8\n",
        "  X = df.drop(target, axis=1)\n",
        "  y = df[target]\n",
        "  return X, y"
      ],
      "metadata": {
        "id": "fJGMDrl9doXw"
      },
      "execution_count": null,
      "outputs": []
    },
    {
      "cell_type": "code",
      "source": [
        "def train_test_split(df):\n",
        "  '''\n",
        "  train, test를 나눈다.\n",
        "  조건에 따라 test 사이즈를 4, 나머지를 train으로 한다.\n",
        "  '''\n",
        "  test_idx = np.random.randint(20, size=4)\n",
        "  test = df.iloc[test_idx]\n",
        "  train = df.drop(test_idx, axis=0)\n",
        "  return train, test"
      ],
      "metadata": {
        "id": "IndPsBQJd5n-"
      },
      "execution_count": null,
      "outputs": []
    },
    {
      "cell_type": "code",
      "source": [
        "def init_w_b(df):\n",
        "  '''\n",
        "  가중치와 편향을 최초 랜덤값으로 초기화한다.\n",
        "  랜덤값의 범위를 0 ~ 1 까지로 선정했다.\n",
        "  '''\n",
        "  weight = np.random.rand(df.shape[1]-1)\n",
        "  bias = np.random.rand(1)\n",
        "  return weight, bias"
      ],
      "metadata": {
        "id": "K2VeT-OAhHQM"
      },
      "execution_count": null,
      "outputs": []
    },
    {
      "cell_type": "code",
      "source": [
        "def batch_split(df, batch_size=4):\n",
        "  '''\n",
        "  이미 셔플이 된 df(train data)가 입력으로 주어진다.\n",
        "  batch_size는 조건에 따라 4로 고정한다.\n",
        "  batch_size에 따라 나눠진 mini_batch를 담은 리스트를 반환한다.\n",
        "  '''\n",
        "  df = df.reset_index(drop=True)\n",
        "  batchs = []\n",
        "  for i in range(0, len(df), 4):\n",
        "    batchs.append(df.iloc[i:i+4,:])\n",
        "  return batchs"
      ],
      "metadata": {
        "id": "laFU-tw8JmU-"
      },
      "execution_count": null,
      "outputs": []
    },
    {
      "cell_type": "code",
      "source": [
        "def apply_sigmoid(data):\n",
        "  '''\n",
        "  출력층 활성화 함수로 Sigmoid를 사용한다.\n",
        "  식 1/(1+e^(-x))\n",
        "  임계치를 기준으로 분류한 1 또는 0 으로 이루어진 리스트를 반환한다.\n",
        "  '''\n",
        "  tmp = [1/(1+np.exp(1)**(-i)) for i in data]\n",
        "  threshold = 0.5\n",
        "  pred = [1 if i > threshold else 0 for i in tmp]\n",
        "  return pred"
      ],
      "metadata": {
        "id": "o0VAJfSJUqtD"
      },
      "execution_count": null,
      "outputs": []
    },
    {
      "cell_type": "code",
      "source": [
        "def cal_weight_sums(df, weight, bias):\n",
        "  '''\n",
        "  역전파가 없으므로 가중치의 변경이 일어나지 않는다.\n",
        "  따라서 모든 배치에서 최초 가중치를 사용한다.\n",
        "  '''\n",
        "  weight_sums = []\n",
        "  for i in range(len(df)):\n",
        "    weight_sum = np.squeeze(np.sum(df.iloc[i, 0:8] * weight)) + bias[0]\n",
        "    weight_sums.append(weight_sum)\n",
        "  return weight_sums"
      ],
      "metadata": {
        "id": "SWKe9fDpP4e6"
      },
      "execution_count": null,
      "outputs": []
    },
    {
      "cell_type": "code",
      "source": [
        "def cal_loss(pred, true):\n",
        "  '''\n",
        "  binary cross entropy loss 를 구한다.\n",
        "  BCE 공식을 통해 구해진 값을 반환한다.\n",
        "  log의 진수가 0이 되어 계산이 되지 않는 경우를 고려해 아주 작은 값을 더해준다.\n",
        "  '''\n",
        "  delta = 1e-7\n",
        "  result = [-(true.iloc[i]*np.log(pred[i] + delta) + (1 - true.iloc[i])*np.log(1 - pred[i] + delta)) for i in range(len(pred))]\n",
        "  return result"
      ],
      "metadata": {
        "id": "LdwaF-hGCHfV"
      },
      "execution_count": null,
      "outputs": []
    },
    {
      "cell_type": "code",
      "source": [
        "def cal_accuracy(pred, true):\n",
        "  '''\n",
        "  Accuracy를 구한다.\n",
        "  pred와 true를 비교해서 같으면 1을 아니면 0을 리스트에 추가한다.\n",
        "  해당 리스트를 반환한다.\n",
        "  '''\n",
        "  acc_list = []\n",
        "  for i in range(len(pred)):\n",
        "    if pred[i] == true.iloc[i]:\n",
        "      acc_list.append(1)\n",
        "    else:\n",
        "      acc_list.append(0)\n",
        "  return acc_list"
      ],
      "metadata": {
        "id": "rHT4gCOJ_EIh"
      },
      "execution_count": null,
      "outputs": []
    },
    {
      "cell_type": "code",
      "source": [
        "def evaluate(df, weight, bias):\n",
        "  '''\n",
        "  1. 각 행의 가중합을 구한다.\n",
        "  2. 구해진 가중합을 시그모이드에 집어넣는다.\n",
        "  3. 나온 값을 통해 loss와 accuracy를 구한다.\n",
        "  '''\n",
        "  X, y = X_y_split(df)\n",
        "  weight_sums = cal_weight_sums(X, weight, bias)\n",
        "  y_pred = apply_sigmoid(weight_sums)\n",
        "  loss = cal_loss(y_pred, y)\n",
        "  accuracy = cal_accuracy(y_pred, y)\n",
        "  return loss, accuracy"
      ],
      "metadata": {
        "id": "3yLmGCnsjwc1"
      },
      "execution_count": null,
      "outputs": []
    },
    {
      "cell_type": "markdown",
      "source": [
        "# 역전파(Back Propagation)\n",
        "\n",
        "loss를 줄이는 방향으로 가중치를 업데이트하여 결정적으로 모델의 성능을 높이는데 기여, 순전파의 반대\n",
        "\n",
        "- 먼저 loss를 줄이는 방향(여기서 loss는 BCE)\n"
      ],
      "metadata": {
        "id": "yNCa4zlCjrIq"
      }
    },
    {
      "cell_type": "code",
      "source": [
        "def main():\n",
        "  dir = 'binary_dataset.csv'\n",
        "  df = data_load(dir)\n",
        "  df = data_shuffle(df)\n",
        "  train, test = train_test_split(df)\n",
        "  batchs = batch_split(train)\n",
        "  weight, bias = init_w_b(train)\n",
        "  loss = []\n",
        "  accuracy = []\n",
        "  for i in batchs:\n",
        "    l, a = evaluate(i, weight, bias)\n",
        "    loss.extend(l)\n",
        "    accuracy.extend(a)\n",
        "  print(f'[Epoch 1] TrainData - Loss = {round(np.mean(loss), 3)}, Accuracy = {round(np.mean(accuracy), 3)}')"
      ],
      "metadata": {
        "id": "PbimlUJFO9bc"
      },
      "execution_count": null,
      "outputs": []
    },
    {
      "cell_type": "code",
      "source": [
        "main()"
      ],
      "metadata": {
        "colab": {
          "base_uri": "https://localhost:8080/"
        },
        "id": "VR8Yp9sILhCl",
        "outputId": "f5b137cf-ab3e-4e1d-e360-aa6ab925582e"
      },
      "execution_count": null,
      "outputs": [
        {
          "output_type": "stream",
          "name": "stdout",
          "text": [
            "[Epoch 1] TrainData - Loss = 12.089, Accuracy = 0.25\n"
          ]
        }
      ]
    }
  ]
}